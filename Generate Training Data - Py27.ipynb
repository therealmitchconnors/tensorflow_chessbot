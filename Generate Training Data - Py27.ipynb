{
 "cells": [
  {
   "cell_type": "code",
   "execution_count": 24,
   "metadata": {},
   "outputs": [
    {
     "name": "stdout",
     "output_type": "stream",
     "text": [
      "9 themes, 40 sets, 0 backgrounds = 360 combinations\n",
      "starting theme gray-tiles\n",
      "starting theme cold-marble\n",
      "starting theme green-marble\n",
      "starting theme pale-wood\n",
      "starting theme plain\n",
      "starting theme red-marble\n",
      "starting theme slate\n",
      "starting theme winter\n",
      "starting theme wooden-dark\n"
     ]
    }
   ],
   "source": [
    "import urllib2\n",
    "from PIL import Image\n",
    "import os\n",
    "import cStringIO\n",
    "\n",
    "def saveImageFromURL(img_url, filename, outfolder):\n",
    "    # Create output folder as needed\n",
    "    if not os.path.exists(outfolder):\n",
    "        os.makedirs(outfolder)\n",
    "    request = urllib2.Request(img_url, headers={\"User-Agent\" : \"Mozilla/13.0\"})\n",
    "    img = Image.open(cStringIO.StringIO(urllib2.urlopen(request).read()))\n",
    "#     filename = fen\n",
    "    img.save(os.path.join(outfolder, filename+'.png'))\n",
    "    \n",
    "def saveAllJinchess(fen, outfolder):\n",
    "    \"\"\"Saves every permutation of this particular FEN from jinchess\"\"\"\n",
    "    themes = [\"gray-tiles\", \"cold-marble\", \"green-marble\", \"pale-wood\", \"plain\", \"red-marble\", \"slate\", \"winter\", \"wooden-dark\"]\n",
    "    pieceSets = [\"adventure\", \"adventure-flat\", \"alfonso-x\", \"alfonso-x-flat\", \"alpha\", \"alpha-flat\", \"berlin\", \"berlin-flat\", \"condal\", \"condal-flat\", \"harlequin\", \"harlequin-flat\", \"kingdom\", \"kingdom-flat\", \"leipzig\", \"leipzig-flat\", \"line\", \"line-flat\", \"lucena\", \"lucena-flat\", \"magnetic\", \"magnetic-flat\", \"mark\", \"mark-flat\", \"marroquin\", \"marroquin-flat\", \"maya\", \"maya-flat\", \"medieval\", \"medieval-flat\", \"merida\", \"merida-flat\", \"motif\", \"motif-flat\", \"smart\", \"smart-flat\", \"usual\", \"usual-flat\", \"utrecht\", \"utrecht-flat\"]\n",
    "    print \"%d themes, %d sets, %d backgrounds = %d combinations\" % (len(themes), len(pieceSets), len(backgrounds), len(themes)*len(pieceSets))\n",
    "    \n",
    "    i = 0\n",
    "    for theme in themes:\n",
    "        print(\"starting theme %s\" % theme)\n",
    "        for pset in pieceSets:\n",
    "            fen = fen.replace(\"1\", \"-\")\n",
    "            # todo: add size parameter xl for larger boards\n",
    "            img_url = \"http://www.jinchess.com/chessboard/?p=%s&s=xl&bp=%s&ps=%s\" % (fen, theme, pset)\n",
    "#             print(\"  saving piece set %s\" % pset)\n",
    "            saveImageFromURL(img_url, \"jinchess%d.%s\" % (i, fen), outfolder)\n",
    "            i += 1\n",
    "#         print(\"finished theme %s\" % theme)\n",
    "        \n",
    "          \n",
    "        \n",
    "# This fen will place pieces of each color on each color tile, giving us plenty of data for training\n",
    "start_fen = \"rnbqkbnrpppppppp111kq1111111111111111111111KQ111PPPPPPPPRNBQKBNR\"\n",
    "# dir(PIL)\n",
    "saveAllJinchess(start_fen, \"jinchess\")\n",
    "            "
   ]
  },
  {
   "cell_type": "code",
   "execution_count": 20,
   "metadata": {},
   "outputs": [
    {
     "name": "stdout",
     "output_type": "stream",
     "text": [
      "saving apronus piece set http://www.apronus.com/chess/diagram/stagram.php?d=Prnbqkbnrpppppppp___kq______________________KQ___PPPPPPPPRNBQKBNR&p=65&s=0&c=BBBBBBEEEEEE969696000000&r=FEFEFE&z=w\n",
      "saving apronus piece set http://www.apronus.com/chess/diagram/stagram.php?d=Prnbqkbnrpppppppp___kq______________________KQ___PPPPPPPPRNBQKBNR&p=65&s=1&c=BBBBBBEEEEEE969696000000&r=FEFEFE&z=w\n",
      "saving apronus piece set http://www.apronus.com/chess/diagram/stagram.php?d=Prnbqkbnrpppppppp___kq______________________KQ___PPPPPPPPRNBQKBNR&p=65&s=2&c=BBBBBBEEEEEE969696000000&r=FEFEFE&z=w\n"
     ]
    }
   ],
   "source": [
    "def saveAllApronus(fen, outfolder):\n",
    "    # apron uses 0, 1, and 2 to represent piece sets\n",
    "    i = 0\n",
    "    for pset in range(3):\n",
    "        fen = fen.replace(\"1\", \"_\")\n",
    "        # todo: add size parameter xl for larger boards\n",
    "        # \"http://www.apronus.com/chess/diagram/stagram.php?d=PRNBQKBNRPPPPPPPP________________________________pppppppprnbqkbnr&p=115&s=2&c=BBBBBBEEEEEE969696000000&r=FEFEFE&z=w\"\n",
    "        # d is the fen, s is the piece set, p is the size (unknown unit), and c, r, and z are unused but necessary\n",
    "        img_url = \"http://www.apronus.com/chess/diagram/stagram.php?d=P%s&p=115&s=%d&c=BBBBBBEEEEEE969696000000&r=FEFEFE&z=w\" % (fen, pset)\n",
    "        print(\"saving apronus piece set %s\" % img_url)\n",
    "        saveImageFromURL(img_url, \"apronus%d.%s\" % (i, fen), outfolder)\n",
    "        i += 1\n",
    "\n",
    "saveAllApronus(start_fen, \"jinchess\")"
   ]
  }
 ],
 "metadata": {
  "kernelspec": {
   "display_name": "Python 2",
   "language": "python",
   "name": "python2"
  },
  "language_info": {
   "codemirror_mode": {
    "name": "ipython",
    "version": 2
   },
   "file_extension": ".py",
   "mimetype": "text/x-python",
   "name": "python",
   "nbconvert_exporter": "python",
   "pygments_lexer": "ipython2",
   "version": "2.7.14"
  }
 },
 "nbformat": 4,
 "nbformat_minor": 2
}
